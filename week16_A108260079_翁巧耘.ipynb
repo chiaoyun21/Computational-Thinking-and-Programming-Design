{
  "nbformat": 4,
  "nbformat_minor": 0,
  "metadata": {
    "colab": {
      "name": "week16 A108260079 翁巧耘.ipynb",
      "provenance": [],
      "include_colab_link": true
    },
    "kernelspec": {
      "name": "python3",
      "display_name": "Python 3"
    }
  },
  "cells": [
    {
      "cell_type": "markdown",
      "metadata": {
        "id": "view-in-github",
        "colab_type": "text"
      },
      "source": [
        "<a href=\"https://colab.research.google.com/github/chiaoyun21/Computational-Thinking-and-Programming-Design/blob/master/week16_A108260079_%E7%BF%81%E5%B7%A7%E8%80%98.ipynb\" target=\"_parent\"><img src=\"https://colab.research.google.com/assets/colab-badge.svg\" alt=\"Open In Colab\"/></a>"
      ]
    },
    {
      "cell_type": "code",
      "metadata": {
        "id": "Bypii7ruzLOc",
        "colab_type": "code",
        "colab": {
          "base_uri": "https://localhost:8080/",
          "height": 68
        },
        "outputId": "6f81e2e3-a418-49ed-e183-49ce6ca2db5a"
      },
      "source": [
        "# 針對對while迴圈執⾏break\n",
        "## break:讓迴圈從此終⽌的指令\n",
        "i = 1\n",
        "while (i < 6):\n",
        "    print(i)\n",
        "    if i == 3:\n",
        "       break\n",
        "    i += 1\n"
      ],
      "execution_count": 2,
      "outputs": [
        {
          "output_type": "stream",
          "text": [
            "1\n",
            "2\n",
            "3\n"
          ],
          "name": "stdout"
        }
      ]
    },
    {
      "cell_type": "code",
      "metadata": {
        "id": "rNyYpG405w_P",
        "colab_type": "code",
        "colab": {
          "base_uri": "https://localhost:8080/",
          "height": 85
        },
        "outputId": "7cedeb15-a3bf-482c-b5b8-961988d609b8"
      },
      "source": [
        "# 針對對while迴圈執⾏continue\n",
        "i = 0\n",
        "while (i < 5):\n",
        "    i += 1\n",
        "    if i == 3:\n",
        "        continue\n",
        "    print(i)"
      ],
      "execution_count": 3,
      "outputs": [
        {
          "output_type": "stream",
          "text": [
            "1\n",
            "2\n",
            "4\n",
            "5\n"
          ],
          "name": "stdout"
        }
      ]
    },
    {
      "cell_type": "code",
      "metadata": {
        "id": "h6vMbMY15-V3",
        "colab_type": "code",
        "colab": {
          "base_uri": "https://localhost:8080/",
          "height": 119
        },
        "outputId": "888e3815-c71e-4fc3-9851-10ef8b727478"
      },
      "source": [
        "\n",
        "i = 1\n",
        "while (i<6):\n",
        "    print(i)\n",
        "    if i == 6:\n",
        "        break\n",
        "    i += 1\n",
        "else:\n",
        "   print('while迴圈正常結束')"
      ],
      "execution_count": 10,
      "outputs": [
        {
          "output_type": "stream",
          "text": [
            "1\n",
            "2\n",
            "3\n",
            "4\n",
            "5\n",
            "while迴圈正常結束\n"
          ],
          "name": "stdout"
        }
      ]
    },
    {
      "cell_type": "code",
      "metadata": {
        "id": "4HxIJjyI7QkZ",
        "colab_type": "code",
        "colab": {
          "base_uri": "https://localhost:8080/",
          "height": 119
        },
        "outputId": "9267c807-8dce-4b59-ed8a-614fa278222a"
      },
      "source": [
        "# 針對while迴圈執⾏else\n",
        "## 我不⽤else指令，就直接循序開始寫\n",
        "\n",
        "i = 1\n",
        "while (i<6):\n",
        "    print(i)\n",
        "    if i == 6:\n",
        "        break\n",
        "    i += 1\n",
        "    \n",
        "print('while迴圈正常結束')"
      ],
      "execution_count": 11,
      "outputs": [
        {
          "output_type": "stream",
          "text": [
            "1\n",
            "2\n",
            "3\n",
            "4\n",
            "5\n",
            "while迴圈正常結束\n"
          ],
          "name": "stdout"
        }
      ]
    },
    {
      "cell_type": "code",
      "metadata": {
        "id": "4G8Msf5V7fz6",
        "colab_type": "code",
        "colab": {
          "base_uri": "https://localhost:8080/",
          "height": 119
        },
        "outputId": "ee82eaaf-85ac-40c6-f769-d11748698139"
      },
      "source": [
        "while True:\n",
        "    acc = input('請輸入帳號？')\n",
        "    pwd = input('請輸入密碼？')\n",
        "    if (acc == 'abc' and pwd == '123'):\n",
        "        print('帳號與密碼正確')\n",
        "        break\n",
        "    else:\n",
        "        print('登入失敗')"
      ],
      "execution_count": 12,
      "outputs": [
        {
          "output_type": "stream",
          "text": [
            "請輸入帳號？123\n",
            "請輸入密碼？123\n",
            "登入失敗\n",
            "請輸入帳號？abc\n",
            "請輸入密碼？123\n",
            "帳號與密碼正確\n"
          ],
          "name": "stdout"
        }
      ]
    },
    {
      "cell_type": "code",
      "metadata": {
        "id": "gAatZt7s8UNL",
        "colab_type": "code",
        "colab": {
          "base_uri": "https://localhost:8080/",
          "height": 51
        },
        "outputId": "bbabc690-a6d3-42cc-dd4d-5fba4e3cbfd7"
      },
      "source": [
        "password = \"a123456\"\n",
        "times = 0\n",
        "\n",
        "while times <= 3:\n",
        "    answer = input(\"Enter Your Password: \") #另外⽤⼀個變數名字\n",
        "    if answer == password: #不要⽤a123456，因為密碼可以改\n",
        "        print(\"登入成功\")\n",
        "        break #出迴圈\n",
        "    else:\n",
        "        times = times + 1\n",
        "        chance = 3 - times\n",
        "        print(\"密碼錯誤！還有\", chance, \"次機會\")\n",
        " "
      ],
      "execution_count": 13,
      "outputs": [
        {
          "output_type": "stream",
          "text": [
            "Enter Your Password: a123456\n",
            "登入成功\n"
          ],
          "name": "stdout"
        }
      ]
    }
  ]
}