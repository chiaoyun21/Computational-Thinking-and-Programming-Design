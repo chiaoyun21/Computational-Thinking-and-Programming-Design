{
  "nbformat": 4,
  "nbformat_minor": 0,
  "metadata": {
    "colab": {
      "name": "Week9-A108260079-翁巧耘.ipynb",
      "provenance": [],
      "include_colab_link": true
    },
    "kernelspec": {
      "name": "python3",
      "display_name": "Python 3"
    }
  },
  "cells": [
    {
      "cell_type": "markdown",
      "metadata": {
        "id": "view-in-github",
        "colab_type": "text"
      },
      "source": [
        "<a href=\"https://colab.research.google.com/github/chiaoyun21/Computational-Thinking-and-Programming-Design/blob/master/Week9_A108260079_%E7%BF%81%E5%B7%A7%E8%80%98.ipynb\" target=\"_parent\"><img src=\"https://colab.research.google.com/assets/colab-badge.svg\" alt=\"Open In Colab\"/></a>"
      ]
    },
    {
      "cell_type": "code",
      "metadata": {
        "id": "TuOv5N0FT8I7",
        "colab_type": "code",
        "outputId": "ef619572-ff2c-4378-bc7b-3973b4689920",
        "colab": {
          "base_uri": "https://localhost:8080/",
          "height": 51
        }
      },
      "source": [
        "score=int(input('請輸入一個成績'))\n",
        "if score>=60:\n",
        "  print(\"很好請繼續保持下去\")"
      ],
      "execution_count": 0,
      "outputs": [
        {
          "output_type": "stream",
          "text": [
            "請輸入一個成績88\n",
            "很好請繼續保持下去\n"
          ],
          "name": "stdout"
        }
      ]
    },
    {
      "cell_type": "code",
      "metadata": {
        "id": "-2CnOipog0uI",
        "colab_type": "code",
        "outputId": "8e7eda4a-07d9-42e2-bf59-2abdffa8988a",
        "colab": {
          "base_uri": "https://localhost:8080/",
          "height": 51
        }
      },
      "source": [
        "score=int(input('請輸入一個成績?'))\n",
        "if score>=60:\n",
        "      print(\"有及格歐\")\n",
        "else:\n",
        "  print(\"不及格ㄟ\")"
      ],
      "execution_count": 0,
      "outputs": [
        {
          "output_type": "stream",
          "text": [
            "請輸入一個成績?50\n",
            "不及格ㄟ\n"
          ],
          "name": "stdout"
        }
      ]
    },
    {
      "cell_type": "code",
      "metadata": {
        "id": "bxnTHQEgiMSE",
        "colab_type": "code",
        "outputId": "8b5440d3-c076-4b92-8181-56aaf10a6899",
        "colab": {
          "base_uri": "https://localhost:8080/",
          "height": 51
        }
      },
      "source": [
        "score=int(input(\"請輸入一個成績\"))\n",
        "if score>=80:\n",
        "  print(\"非常好\")\n",
        "elif score>=60:\n",
        "    print(\"不錯喔\")\n",
        "else:\n",
        "      print(\"要加油\")"
      ],
      "execution_count": 0,
      "outputs": [
        {
          "output_type": "stream",
          "text": [
            "請輸入一個成績66\n",
            "不錯喔\n"
          ],
          "name": "stdout"
        }
      ]
    },
    {
      "cell_type": "code",
      "metadata": {
        "id": "CDKOzbxXlbK0",
        "colab_type": "code",
        "outputId": "1c3b67a8-0636-4aa1-a0dc-3dfb5132df5c",
        "colab": {
          "base_uri": "https://localhost:8080/",
          "height": 131
        }
      },
      "source": [
        "x = float(input('請輸入該點的X座標?'))\n",
        "y = float(input('請輸入該點的Y座標?'))\n",
        "if (x > 0):\n",
        "  if (y > 0):\n",
        "   print('該點在第一象限') \n",
        "else:\n",
        "   print('該點在第四象限') \n",
        "else: \n",
        "  if (y > 0):\n",
        "   print('該點在第二象限') \n",
        "else:\n",
        "   print('該點在第三象限') "
      ],
      "execution_count": 0,
      "outputs": [
        {
          "output_type": "error",
          "ename": "SyntaxError",
          "evalue": "ignored",
          "traceback": [
            "\u001b[0;36m  File \u001b[0;32m\"<ipython-input-44-097e185b1774>\"\u001b[0;36m, line \u001b[0;32m8\u001b[0m\n\u001b[0;31m    else:\u001b[0m\n\u001b[0m       ^\u001b[0m\n\u001b[0;31mSyntaxError\u001b[0m\u001b[0;31m:\u001b[0m invalid syntax\n"
          ]
        }
      ]
    },
    {
      "cell_type": "code",
      "metadata": {
        "id": "Xi3mnE0imOp1",
        "colab_type": "code",
        "outputId": "80f41988-7991-4208-9f02-26cc4c9451a6",
        "colab": {
          "base_uri": "https://localhost:8080/",
          "height": 51
        }
      },
      "source": [
        "num = int(input('請輸入一個整數?'))\n",
        "if num % 2 == 0: \n",
        "     print(num, '為偶數')\n",
        "else:\n",
        "     print(num, '為奇數')"
      ],
      "execution_count": 0,
      "outputs": [
        {
          "output_type": "stream",
          "text": [
            "請輸入一個整數?13\n",
            "13 為奇數\n"
          ],
          "name": "stdout"
        }
      ]
    },
    {
      "cell_type": "code",
      "metadata": {
        "id": "557WtB0bm0zn",
        "colab_type": "code",
        "outputId": "b1e22eb2-d045-4fb8-f052-507d5fb07f33",
        "colab": {
          "base_uri": "https://localhost:8080/",
          "height": 51
        }
      },
      "source": [
        "num = int(input('請輸入一個整數?'))\n",
        "if num % 2 == 1: \n",
        "     print(num, '為奇數')\n",
        "else:\n",
        "     print(num, '為偶數')"
      ],
      "execution_count": 0,
      "outputs": [
        {
          "output_type": "stream",
          "text": [
            "請輸入一個整數?13\n",
            "13 為奇數\n"
          ],
          "name": "stdout"
        }
      ]
    }
  ]
}