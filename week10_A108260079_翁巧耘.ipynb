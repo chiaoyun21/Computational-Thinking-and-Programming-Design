{
  "nbformat": 4,
  "nbformat_minor": 0,
  "metadata": {
    "colab": {
      "name": "week10-A108260079-翁巧耘.ipynb",
      "provenance": [],
      "include_colab_link": true
    },
    "kernelspec": {
      "name": "python3",
      "display_name": "Python 3"
    }
  },
  "cells": [
    {
      "cell_type": "markdown",
      "metadata": {
        "id": "view-in-github",
        "colab_type": "text"
      },
      "source": [
        "<a href=\"https://colab.research.google.com/github/chiaoyun21/Computational-Thinking-and-Programming-Design/blob/master/week10_A108260079_%E7%BF%81%E5%B7%A7%E8%80%98.ipynb\" target=\"_parent\"><img src=\"https://colab.research.google.com/assets/colab-badge.svg\" alt=\"Open In Colab\"/></a>"
      ]
    },
    {
      "cell_type": "code",
      "metadata": {
        "id": "R66dUWFqVDdd",
        "colab_type": "code",
        "outputId": "44d39979-5718-4444-9076-a537b9da4881",
        "colab": {
          "base_uri": "https://localhost:8080/",
          "height": 204
        }
      },
      "source": [
        "do = input(\":: \")\n",
        "\n",
        "if do == \"LOOK\":\n",
        "   print(\"Start to Play \")\n",
        "   print(\"Choose LEFT or RIGHT\")\n",
        "  \n",
        "   do2 = input(\"選左或選右::\")\n",
        "if do2 == \"LEFT\":\n",
        "  print(\"Keep on!\")\n",
        "  print(\"看到食物\")\n",
        "  print(\"Food - CRAB or STARFISH\")\n",
        "\n",
        "  do3=input(\"吃海星或螃蟹\")\n",
        "if do3 == \"STARFISH\":\n",
        "    print(\"Sorry, Fail\")\n",
        "elif do3 == \"CRAB\":\n",
        "    print(\"you get energy.\")\n",
        "    print(\"YES or NO\")\n",
        "\n",
        "    do4 = input(\"生吃嗎?\")\n",
        "    if do ==\"YES\":\n",
        "      print(\"OK,You eat it raw. Finger crossed.\")\n",
        "      print(\"Food in your belly you see a TREE\")"
      ],
      "execution_count": 0,
      "outputs": [
        {
          "output_type": "stream",
          "text": [
            ":: LOOK\n",
            "Start to Play \n",
            "Choose LEFT or RIGHT\n",
            "選左或選右::LEFT\n",
            "Keep on!\n",
            "看到食物\n",
            "Food - CRAB or STARFISH\n",
            "吃海星或螃蟹CRAB\n",
            "you get energy.\n",
            "YES or NO\n",
            "生吃嗎?YES\n"
          ],
          "name": "stdout"
        }
      ]
    },
    {
      "cell_type": "markdown",
      "metadata": {
        "id": "mL8vDUhHk3hT",
        "colab_type": "text"
      },
      "source": [
        ""
      ]
    },
    {
      "cell_type": "code",
      "metadata": {
        "id": "jz_-J0y2ho-C",
        "colab_type": "code",
        "outputId": "27c2cecd-5239-4a8c-d5de-7a51c92f2efe",
        "colab": {
          "base_uri": "https://localhost:8080/",
          "height": 85
        }
      },
      "source": [
        "import random\n",
        "\n",
        "my = int(input(\"請出拳 [0] 剪刀 [1] 石頭 [2] 布\"))\n",
        "print(\"我出拳為\", my)\n",
        "\n",
        "computer = random.randint(0, 2)\n",
        "print(\"電腦出拳為\", computer)\n",
        "\n",
        "if my == 0:\n",
        "       if computer == 0:\n",
        "            print('平手')\n",
        "       elif computer == 1:\n",
        "            print('電腦獲勝')\n",
        "       else:\n",
        "            print('玩家獲勝')\n",
        "elif my == 1:\n",
        "       if computer == 0:\n",
        "           print('玩家獲勝')\n",
        "       elif computer == 1:\n",
        "           print('平手')\n",
        "       else:\n",
        "           print('電腦獲勝')\n",
        "else:\n",
        "      if computer == 1:\n",
        "          print('電腦獲勝')\n",
        "      elif computer == 2:\n",
        "          print('玩家獲勝')\n",
        "      else:\n",
        "          print('平手')"
      ],
      "execution_count": 0,
      "outputs": [
        {
          "output_type": "stream",
          "text": [
            "請出拳 [0] 剪刀 [1] 石頭 [2] 布0\n",
            "我出拳為 0\n",
            "電腦出拳為 1\n",
            "電腦獲勝\n"
          ],
          "name": "stdout"
        }
      ]
    },
    {
      "cell_type": "code",
      "metadata": {
        "id": "ccjwWexFjwjh",
        "colab_type": "code",
        "outputId": "69a41e8d-1e56-49da-b500-ff33a8ea54ec",
        "colab": {
          "base_uri": "https://localhost:8080/",
          "height": 85
        }
      },
      "source": [
        "import random\n",
        "\n",
        "my_choice = int(input(\"請出拳 [0] 剪刀 [1] 石頭 [2] 布\"))\n",
        "print(\"我出拳為\", my_choice)\n",
        "\n",
        "com_choice = random.randint(0, 2)\n",
        "print(\"電腦出拳為\", com_choice)\n",
        "\n",
        "if my_choice == (com_choice + 1) % 3:\n",
        "      print(\"我贏了\")\n",
        "elif my_choice == com_choice:\n",
        "      print(\"平手\")\n",
        "else:\n",
        "      print(\"我輸了\")"
      ],
      "execution_count": 0,
      "outputs": [
        {
          "output_type": "stream",
          "text": [
            "請出拳 [0] 剪刀 [1] 石頭 [2] 布1\n",
            "我出拳為 1\n",
            "電腦出拳為 1\n",
            "平手\n"
          ],
          "name": "stdout"
        }
      ]
    },
    {
      "cell_type": "code",
      "metadata": {
        "id": "PcDF6YD3maBX",
        "colab_type": "code",
        "outputId": "fa0cfb2c-3df2-433f-ba26-dcd369c7eef6",
        "colab": {
          "base_uri": "https://localhost:8080/",
          "height": 85
        }
      },
      "source": [
        "import random\n",
        "\n",
        "my_choice = int(input(\"請出拳 [0] 蟲 [1] 雞 [2] 老虎 [3] 棒子\"))\n",
        "print(\"你出的拳:\", my_choice)\n",
        "\n",
        "com_choice = random.randint(0, 3)\n",
        "print(\"電腦出拳為\", com_choice)\n",
        "\n",
        "if my_choice == (com_choice + 1) % 4:\n",
        "     print(\"我贏了\")\n",
        "elif com_choice == (my_choice + 1) % 4:\n",
        "     print(\"電腦贏了\")\n",
        "else:\n",
        "     print(\"平手\")"
      ],
      "execution_count": 0,
      "outputs": [
        {
          "output_type": "stream",
          "text": [
            "請出拳 [0] 蟲 [1] 雞 [2] 老虎 [3] 棒子1\n",
            "你出的拳: 1\n",
            "電腦出拳為 2\n",
            "電腦贏了\n"
          ],
          "name": "stdout"
        }
      ]
    },
    {
      "cell_type": "code",
      "metadata": {
        "id": "z8OHPhoqmpRu",
        "colab_type": "code",
        "outputId": "d83e8ed8-5d96-489d-f39a-190966945f22",
        "colab": {
          "base_uri": "https://localhost:8080/",
          "height": 51
        }
      },
      "source": [
        "eye=float(input(\"請輸入度數?\"))\n",
        "if  eye < 0.9 :\n",
        "  print(\"近視\")\n",
        "else:\n",
        "  print(\"視力正常\")"
      ],
      "execution_count": 0,
      "outputs": [
        {
          "output_type": "stream",
          "text": [
            "請輸入度數?0.8\n",
            "近視\n"
          ],
          "name": "stdout"
        }
      ]
    },
    {
      "cell_type": "code",
      "metadata": {
        "id": "mnrm0aBUr1KU",
        "colab_type": "code",
        "outputId": "0a64cc72-f4e0-4e9e-e10a-fcc30528ead1",
        "colab": {
          "base_uri": "https://localhost:8080/",
          "height": 51
        }
      },
      "source": [
        "year=int(input(\"請輸入西元幾年\"))\n",
        "if year % 4==0:\n",
        "  if year % 400==0:\n",
        "    print(year,\"是潤年\")\n",
        "  elif year %100==0:\n",
        "    print(year,\"不是閏年\")\n",
        "  else:\n",
        "    print(year,\"是閏年\")\n",
        "else:\n",
        "    print(year,\"不是閏年\")\n"
      ],
      "execution_count": 0,
      "outputs": [
        {
          "output_type": "stream",
          "text": [
            "請輸入西元幾年2012\n",
            "2012 是閏年\n"
          ],
          "name": "stdout"
        }
      ]
    }
  ]
}