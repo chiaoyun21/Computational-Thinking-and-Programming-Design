{
  "nbformat": 4,
  "nbformat_minor": 0,
  "metadata": {
    "colab": {
      "name": "Week45-A108260079-翁巧耘.ipynb ",
      "provenance": [],
      "collapsed_sections": [],
      "include_colab_link": true
    },
    "kernelspec": {
      "name": "python3",
      "display_name": "Python 3"
    }
  },
  "cells": [
    {
      "cell_type": "markdown",
      "metadata": {
        "id": "view-in-github",
        "colab_type": "text"
      },
      "source": [
        "<a href=\"https://colab.research.google.com/github/chiaoyun21/Computational-Thinking-and-Programming-Design/blob/master/Week45_A108260079_%E7%BF%81%E5%B7%A7%E8%80%98.ipynb\" target=\"_parent\"><img src=\"https://colab.research.google.com/assets/colab-badge.svg\" alt=\"Open In Colab\"/></a>"
      ]
    },
    {
      "cell_type": "code",
      "metadata": {
        "id": "8rITVuFiPUhU",
        "colab_type": "code",
        "outputId": "4ba56d07-14fb-4c99-cce6-d21d2e93aebb",
        "colab": {
          "base_uri": "https://localhost:8080/",
          "height": 165
        }
      },
      "source": [
        "#光有名子不行\n",
        "\n",
        "print(a)"
      ],
      "execution_count": 0,
      "outputs": [
        {
          "output_type": "error",
          "ename": "NameError",
          "evalue": "ignored",
          "traceback": [
            "\u001b[0;31m---------------------------------------------------------------------------\u001b[0m",
            "\u001b[0;31mNameError\u001b[0m                                 Traceback (most recent call last)",
            "\u001b[0;32m<ipython-input-1-bca0e2660b9f>\u001b[0m in \u001b[0;36m<module>\u001b[0;34m()\u001b[0m\n\u001b[0;32m----> 1\u001b[0;31m \u001b[0mprint\u001b[0m\u001b[0;34m(\u001b[0m\u001b[0ma\u001b[0m\u001b[0;34m)\u001b[0m\u001b[0;34m\u001b[0m\u001b[0;34m\u001b[0m\u001b[0m\n\u001b[0m",
            "\u001b[0;31mNameError\u001b[0m: name 'a' is not defined"
          ]
        }
      ]
    },
    {
      "cell_type": "code",
      "metadata": {
        "id": "6hAKxbpXPbP2",
        "colab_type": "code",
        "outputId": "2d9fbca9-c0eb-4790-8685-b6a0175b8bf8",
        "colab": {
          "base_uri": "https://localhost:8080/",
          "height": 34
        }
      },
      "source": [
        "#要有內容\n",
        "\n",
        "a=1\n",
        "a"
      ],
      "execution_count": 0,
      "outputs": [
        {
          "output_type": "execute_result",
          "data": {
            "text/plain": [
              "1"
            ]
          },
          "metadata": {
            "tags": []
          },
          "execution_count": 25
        }
      ]
    },
    {
      "cell_type": "code",
      "metadata": {
        "id": "lYQTQ6nJQGkB",
        "colab_type": "code",
        "outputId": "210f2d75-8422-4f7f-ad27-df6282d56da1",
        "colab": {
          "base_uri": "https://localhost:8080/",
          "height": 34
        }
      },
      "source": [
        "a=\"Python\"\n",
        "a"
      ],
      "execution_count": 0,
      "outputs": [
        {
          "output_type": "execute_result",
          "data": {
            "text/plain": [
              "'Python'"
            ]
          },
          "metadata": {
            "tags": []
          },
          "execution_count": 13
        }
      ]
    },
    {
      "cell_type": "code",
      "metadata": {
        "id": "XB8pJhkiQVzj",
        "colab_type": "code",
        "colab": {}
      },
      "source": [
        "##資料內容的基本型別有三 (整數、浮點數) 、布林與文字 (字串) 。\n",
        "\n",
        "a=123\n",
        "b=123.456\n",
        "c=\"Python\"\n",
        "d=False\n"
      ],
      "execution_count": 0,
      "outputs": []
    },
    {
      "cell_type": "code",
      "metadata": {
        "id": "jvsaNP48SFjH",
        "colab_type": "code",
        "outputId": "cfb23758-12bd-4f93-de61-6f446bc5ea36",
        "colab": {
          "base_uri": "https://localhost:8080/",
          "height": 51
        }
      },
      "source": [
        "#資料有位址:id()\n",
        "  \n",
        "a=1\n",
        "print(a, id(a))\n",
        "b=\"Python\"\n",
        "print(b, id(b))"
      ],
      "execution_count": 0,
      "outputs": [
        {
          "output_type": "stream",
          "text": [
            "1 10968800\n",
            "Python 140668415536184\n"
          ],
          "name": "stdout"
        }
      ]
    },
    {
      "cell_type": "code",
      "metadata": {
        "id": "Aa11X9eZTGmi",
        "colab_type": "code",
        "outputId": "1ad66dcd-935c-4962-f380-ae86b1a4f518",
        "colab": {
          "base_uri": "https://localhost:8080/",
          "height": 34
        }
      },
      "source": [
        "#不同變數，不同值、不同址\n",
        "\n",
        "x=1\n",
        "y=2\n",
        "print(id(x), id(y))"
      ],
      "execution_count": 0,
      "outputs": [
        {
          "output_type": "stream",
          "text": [
            "10968800 10968832\n"
          ],
          "name": "stdout"
        }
      ]
    },
    {
      "cell_type": "code",
      "metadata": {
        "id": "h-BelFdeTwpP",
        "colab_type": "code",
        "outputId": "f072788f-fa81-4068-8de4-2154517ef40e",
        "colab": {
          "base_uri": "https://localhost:8080/",
          "height": 34
        }
      },
      "source": [
        "#不同變數，但相同位址:同值、同址、省空間\n",
        "z=1\n",
        "print(id(x), id(z))"
      ],
      "execution_count": 0,
      "outputs": [
        {
          "output_type": "stream",
          "text": [
            "10968800 10968800\n"
          ],
          "name": "stdout"
        }
      ]
    },
    {
      "cell_type": "code",
      "metadata": {
        "id": "BTE68iWHUS7H",
        "colab_type": "code",
        "outputId": "95720426-f842-41d2-9977-9775bd4ca1a8",
        "colab": {
          "base_uri": "https://localhost:8080/",
          "height": 34
        }
      },
      "source": [
        "# 變數大小可用sys.getsizeof()測量\n",
        "\n",
        "import sys#引進模組使用模組中的指令\n",
        "\n",
        "x=18\n",
        "sys.getsizeof(x)"
      ],
      "execution_count": 0,
      "outputs": [
        {
          "output_type": "execute_result",
          "data": {
            "text/plain": [
              "28"
            ]
          },
          "metadata": {
            "tags": []
          },
          "execution_count": 30
        }
      ]
    },
    {
      "cell_type": "code",
      "metadata": {
        "id": "eQBpJUWeXtF5",
        "colab_type": "code",
        "outputId": "6c7c85b7-7bcd-489b-9656-bc03acdb6fee",
        "colab": {
          "base_uri": "https://localhost:8080/",
          "height": 202
        }
      },
      "source": [
        "# 布林:根據輸入的資料決定結果是True或False。\n",
        "\n",
        "print(False)\n",
        "print(True)\n",
        "print(False+3)\n",
        "print(True+3)\n",
        "print(False==0)\n",
        "print(True==1)\n",
        "\n",
        "#使用type()函式判斷資料型別\n",
        "print(False, type(False))\n",
        "print(True+1, type(True+1))\n",
        "\n",
        "#使用bool()函式建立資料\n",
        "print(bool(1))\n",
        "print(bool(0))\n",
        "print(bool(()))\n"
      ],
      "execution_count": 0,
      "outputs": [
        {
          "output_type": "stream",
          "text": [
            "False\n",
            "True\n",
            "3\n",
            "4\n",
            "True\n",
            "True\n",
            "False <class 'bool'>\n",
            "2 <class 'int'>\n",
            "True\n",
            "False\n",
            "False\n"
          ],
          "name": "stdout"
        }
      ]
    },
    {
      "cell_type": "code",
      "metadata": {
        "id": "cAbgzK5bX-RF",
        "colab_type": "code",
        "outputId": "ae971c71-93c7-4400-e9af-3d8c226c800b",
        "colab": {
          "base_uri": "https://localhost:8080/",
          "height": 101
        }
      },
      "source": [
        "# 數字\n",
        "\n",
        "a = 100\n",
        "b = 100.001\n",
        "\n",
        "# 使用type()函式判斷資料型別\n",
        "print(type(100))\n",
        "print(type(100.001))\n",
        "\n",
        "# 使用int()與float()函式建立資料\n",
        "print(int(100))\n",
        "print(float(100.001))\n",
        "\n",
        "# 請注意:浮點數在電腦是使用二進位表示小數,所以表達的是近似值,和我們習慣十進位有時不完全相等。\n",
        "# 電腦因為記憶體的原因,無法表示無窮位數的小數點,例如`pi`,只是取有限位數的近似值。\n",
        "\n",
        "print(0.1+0.1+0.1)"
      ],
      "execution_count": 0,
      "outputs": [
        {
          "output_type": "stream",
          "text": [
            "<class 'int'>\n",
            "<class 'float'>\n",
            "100\n",
            "100.001\n",
            "0.30000000000000004\n"
          ],
          "name": "stdout"
        }
      ]
    },
    {
      "cell_type": "code",
      "metadata": {
        "id": "AeUKZxerMZaf",
        "colab_type": "code",
        "outputId": "ffa0f18a-de1c-4b30-9ddf-5d2ceaaee2da",
        "colab": {
          "base_uri": "https://localhost:8080/",
          "height": 151
        }
      },
      "source": [
        "s1='春眠不覺曉,處處聞啼鳥。'\n",
        "print(s1)\n",
        "\n",
        "s2 = \"夜來風雨聲,花落知多少。\"\n",
        "print(s2)\n",
        "\n",
        "s3 = '作者\"孟浩然\" 詩名\"春曉\"'\n",
        "print(s3)\n",
        "\n",
        "s4 = \"作者'孟浩然' 詩名'春曉'\"\n",
        "print(s4)\n",
        "\n",
        "s5 = ''' 春眠不覺曉,處處聞啼鳥。\n",
        "夜來風雨聲,花落知多少。\n",
        "作者\"孟浩然\" 詩名\"春曉\"\n",
        "'''\n",
        "\n",
        "print(s5)"
      ],
      "execution_count": 0,
      "outputs": [
        {
          "output_type": "stream",
          "text": [
            "春眠不覺曉,處處聞啼鳥。\n",
            "夜來風雨聲,花落知多少。\n",
            "作者\"孟浩然\" 詩名\"春曉\"\n",
            "作者'孟浩然' 詩名'春曉'\n",
            " 春眠不覺曉,處處聞啼鳥。\n",
            "夜來風雨聲,花落知多少。\n",
            "作者\"孟浩然\" 詩名\"春曉\"\n",
            "\n"
          ],
          "name": "stdout"
        }
      ]
    },
    {
      "cell_type": "code",
      "metadata": {
        "id": "vXqaCacQMkW1",
        "colab_type": "code",
        "outputId": "3ce9cdfd-b3aa-410a-e5eb-2587f041e8d1",
        "colab": {
          "base_uri": "https://localhost:8080/",
          "height": 67
        }
      },
      "source": [
        "# 螢幕列印:print函式\n",
        "## 有format格式化輸出與%格式化輸出兩種。\n",
        "\n",
        "a = 123\n",
        "b = 123.456\n",
        "\n",
        "print(a)\n",
        "\n",
        "print(\"b=\", b)\n",
        "\n",
        "print(a, b, end = '.') #結束時以.表示\n"
      ],
      "execution_count": 0,
      "outputs": [
        {
          "output_type": "stream",
          "text": [
            "123\n",
            "b= 123.456\n",
            "123 123.456."
          ],
          "name": "stdout"
        }
      ]
    },
    {
      "cell_type": "code",
      "metadata": {
        "id": "03UyOptaMtKe",
        "colab_type": "code",
        "outputId": "347ee880-e207-4bb7-a9f1-0c36fdfe283a",
        "colab": {
          "base_uri": "https://localhost:8080/",
          "height": 84
        }
      },
      "source": [
        "print(\"Bigflower Francis\")\n",
        "\n",
        "print(\"Bigflower \\n Francis\") # 跳行\n",
        "\n",
        "print(\"Bigflower \\t Francis\") # 8個空格tab"
      ],
      "execution_count": 0,
      "outputs": [
        {
          "output_type": "stream",
          "text": [
            "Bigflower Francis\n",
            "Bigflower \n",
            " Francis\n",
            "Bigflower \t Francis\n"
          ],
          "name": "stdout"
        }
      ]
    },
    {
      "cell_type": "code",
      "metadata": {
        "id": "JEJDnVgvRLDu",
        "colab_type": "code",
        "colab": {}
      },
      "source": [
        "# 螢幕輸入:input函數\n",
        "\n",
        "s = input(\"hi\")\n",
        "s"
      ],
      "execution_count": 0,
      "outputs": []
    },
    {
      "cell_type": "code",
      "metadata": {
        "id": "VKA-y1boQUjg",
        "colab_type": "code",
        "colab": {}
      },
      "source": [
        "s = input(\"翁巧耘:\")\n",
        "s"
      ],
      "execution_count": 0,
      "outputs": []
    },
    {
      "cell_type": "code",
      "metadata": {
        "id": "qs18ZIaZQaGd",
        "colab_type": "code",
        "colab": {}
      },
      "source": [
        "s = input (\"翁巧耘:\")\n",
        "print(\"Hi,\", s)"
      ],
      "execution_count": 0,
      "outputs": []
    },
    {
      "cell_type": "code",
      "metadata": {
        "id": "eZwNeM6eQ0YX",
        "colab_type": "code",
        "colab": {}
      },
      "source": [
        "## 請注意input函數所輸入的資料是字串型態,不同型態的資料不能做運算。\n",
        "\n",
        "s = input (\"67:\")\n",
        "print(s+100)"
      ],
      "execution_count": 0,
      "outputs": []
    },
    {
      "cell_type": "code",
      "metadata": {
        "id": "8zrQIip-Q-1l",
        "colab_type": "code",
        "colab": {}
      },
      "source": [
        "#文字轉數字的整數,請用int()函數\n",
        "s = int(input(\"67:\"))\n",
        "print(100 + s)\n",
        "#文字轉數字的福點數,請用float()函數\n",
        "s = float(input(\"67:\"))\n",
        "print(100 + s)\n",
        "#文字轉數字,均可用eval()函數\n",
        "s = eval(input(\"67:\"))\n",
        "print(100 + s)\n",
        "s = eval(input(\"67:\"))"
      ],
      "execution_count": 0,
      "outputs": []
    },
    {
      "cell_type": "code",
      "metadata": {
        "id": "z8GszyKgRUlO",
        "colab_type": "code",
        "colab": {}
      },
      "source": [
        "# 指定運算子\n",
        "## 用等號(=) 表示,意思是等號右邊先運算,再將運算結果指定給左邊的變數。\n",
        "\n",
        "a = 1 + 2"
      ],
      "execution_count": 0,
      "outputs": []
    },
    {
      "cell_type": "code",
      "metadata": {
        "id": "UbZq37EIRffG",
        "colab_type": "code",
        "colab": {}
      },
      "source": [
        "# 布林(一):比較運算子\n",
        "## 比較運算子用於比較兩數的大於、小於和等於關係。\n",
        "\n",
        "print (5<2)\n",
        "print (5<=2)\n",
        "print (5>2)\n",
        "print(5>=2)\n",
        "print(5!=2)\n",
        "print(5==2) #請注意不要混淆=和=="
      ],
      "execution_count": 0,
      "outputs": []
    },
    {
      "cell_type": "code",
      "metadata": {
        "id": "CtvHU-yMRkj-",
        "colab_type": "code",
        "colab": {}
      },
      "source": [
        "#布林(二):邏輯運算子\n",
        "## 邏輯運算子有三種運算子:且(and)、或(or)、非(not)。\n",
        "\n",
        "X = 70\n",
        "print((X>60) and (X<80))\n",
        "print((X>60) or (X<80))\n",
        "print(not(X>60))"
      ],
      "execution_count": 0,
      "outputs": []
    },
    {
      "cell_type": "code",
      "metadata": {
        "id": "ZjUrXEAsRpNd",
        "colab_type": "code",
        "colab": {}
      },
      "source": [
        "#布林(三):成員與身份算子\n",
        "## [x in y]判斷x是否為y其中一個元素\n",
        "## [x is y]判斷x與y的id是否相同(在此不是相等==的判斷)\n",
        "\n",
        "x = 1\n",
        "y = [1,2,3]\n",
        "\n",
        "print(x in y)\n",
        "print( x not in y)\n",
        "\n",
        "x = [1,2,3]\n",
        "y = [1,2,3]\n",
        "\n",
        "print(id(x), id(y)) #兩個變數id不同\n",
        "\n",
        "print(x is y)\n",
        "print(x is not y)"
      ],
      "execution_count": 0,
      "outputs": []
    },
    {
      "cell_type": "code",
      "metadata": {
        "id": "AlOiQD45Rxsu",
        "colab_type": "code",
        "colab": {}
      },
      "source": [
        "# 數字(一)算術運算子\n",
        "## 算術運算子為數學的運算子\n",
        "\n",
        "print(5 + 2) #加\n",
        "print(5 - 2) #減\n",
        "print(5 * 2) #乘\n",
        "print(5 / 2) #除\n",
        "print(5 // 2) #商\n",
        "print(5 % 2) #餘數\n",
        "print(5 ** 2) #次方"
      ],
      "execution_count": 0,
      "outputs": []
    },
    {
      "cell_type": "code",
      "metadata": {
        "id": "vQ_fUU-fR5zv",
        "colab_type": "code",
        "colab": {}
      },
      "source": [
        "# 數字(二)算術指定運算字,為指定運算子和算術運算子的綜合\n",
        "\n",
        "a = 5\n",
        "a = a + 2\n",
        "print(a)\n",
        "\n",
        "a+=2 #a = a + 2\n",
        "print(a)\n",
        "\n",
        "a-=2 #a = a - 2\n",
        "print(a)\n",
        "\n",
        "a*=2 #a = a * 2\n",
        "print(a)\n",
        "\n",
        "a/=2 # a = a / 2\n",
        "print(a)\n",
        "\n",
        "a//=2 # a = a // 2\n",
        "print(a)\n",
        "\n",
        "a%=2 # a = a % 2\n",
        "print(a)\n",
        "\n",
        "a**=2 #a = a**2\n",
        "print(a)"
      ],
      "execution_count": 0,
      "outputs": []
    },
    {
      "cell_type": "code",
      "metadata": {
        "id": "wYEiZMJQSCXl",
        "colab_type": "code",
        "colab": {}
      },
      "source": [
        "s1 =\"123\"\n",
        "s2 = \"456\"\n",
        "s3 = s1+s2\n",
        "print(s3)\n",
        "\n",
        "s4 = s1*2\n",
        "print(s4)\n",
        "\n",
        "s5 = '春眠不覺曉,處處聞啼鳥。\\n\\\n",
        "夜來風雨聲,花落知多少。\\n\\\n",
        "\\t作者\"孟浩然\" 詩名\"春曉\"'\n",
        "print(s5)"
      ],
      "execution_count": 0,
      "outputs": []
    },
    {
      "cell_type": "code",
      "metadata": {
        "id": "bB0KUXaDSKx9",
        "colab_type": "code",
        "colab": {}
      },
      "source": [
        "#位置索引\n",
        "s = '123456789'\n",
        "print(s[0]) #位置索引從0開始,不是1開始\n",
        "print(s[1])\n",
        "print(s[-1]) #從右到左倒過來的第一個位置,加負號\n",
        "print(s[-2])\n",
        "\n",
        "#切片\n",
        "\n",
        "s = '0123456789'\n",
        "#索引\n",
        "print('s=', s)\n",
        "print('s[0]=', s[0])\n",
        "print('s[1]=', s[1])\n",
        "print('s[-1]=', s[-1])\n",
        "print('s[-2]=', s[-2])\n",
        "\n",
        "#切片\n",
        "print('s=', s, 's[:]=', s[:]) #從頭到尾\n",
        "print('s=', s, 's[5:]=', s[5:]) #到尾\n",
        "print('s=', s, 's[-2:]=', s[-2:])\n",
        "print('s=', s, 's[:5]=', s[:5]) #從頭\n",
        "print('s=', s, 's[:-2]=', s[:-2])\n",
        "print('s=', s, 's[7:9]=', s[7:9])# 範圍\n",
        "print('s=', s, 's[-4:-1]=', s[-4:-1])\n",
        "print('s=', s, 's[5:-2]=', s[5:-2])\n",
        "print('s=', s, 's[2:10:2]=', s[2:10:2])\n",
        "print('s=', s, 's[::-1]=', s[::-1])\n",
        "print('s=', s, 's[-1::-1]=', s[-1::-1])\n"
      ],
      "execution_count": 0,
      "outputs": []
    },
    {
      "cell_type": "code",
      "metadata": {
        "id": "IUB3zg2XSVSO",
        "colab_type": "code",
        "colab": {}
      },
      "source": [
        "# 數字:內建函數\n",
        "\n",
        "a = -2\n",
        "print(abs(a)) #絕對值\n",
        "print(abs(-10))\n",
        "\n",
        "print(max(1,2,3,4,5)) #極大值\n",
        "print(min(1,2,3,4,5)) #極小值\n",
        "\n",
        "print(pow(2,3)) ##次方 pow(a,b)為a的b次方\n",
        "\n",
        "print(round(5.8)) #四捨五入\n",
        "print(round(3.14159,2)) #取小數點兩位死捨五入"
      ],
      "execution_count": 0,
      "outputs": []
    },
    {
      "cell_type": "code",
      "metadata": {
        "id": "3ScbH4YuSg_3",
        "colab_type": "code",
        "colab": {}
      },
      "source": [
        "s = '春眠不覺曉,處處聞啼鳥,夜來風雨聲,花落知多少。'\n",
        "print(len(s))\n",
        "\n",
        "s1='春眠不覺曉,處處聞啼鳥,夜來風雨聲,花落知多少。'\n",
        "list1=s1.split(',') #以逗號,分割字串\n",
        "print(list1)\n",
        "\n",
        "list1 = ['春眠不覺曉','處處聞啼鳥','夜來風雨聲','花落知多少。']\n",
        "s2=','.join(list1) #以逗號,連接字串\n",
        "print(s2)"
      ],
      "execution_count": 0,
      "outputs": []
    },
    {
      "cell_type": "code",
      "metadata": {
        "id": "9QaL1_hhSr31",
        "colab_type": "code",
        "colab": {}
      },
      "source": [
        "s1='春眠不覺曉,處處聞啼鳥,夜來風雨聲,花落知多少。'\n",
        "s3=s1.replace('春','冬') #以冬替代春(冬眠不覺曉)\n",
        "print(s3)\n",
        "\n",
        "s1='春眠不覺曉,處處聞啼鳥,夜來風雨聲,花落知多少。'\n",
        "\n",
        "print(s1.find('花落')) #尋找\n",
        "print(s1.count('處')) #計次\n",
        "\n",
        "s1='An apple a day.'\n",
        "print(s1.capitalize())\n",
        "print(s1.title())\n",
        "print(s1.swapcase())\n",
        "print(s1.upper())\n",
        "print(s1.lower())"
      ],
      "execution_count": 0,
      "outputs": []
    },
    {
      "cell_type": "code",
      "metadata": {
        "id": "OuXnFi0TSv6K",
        "colab_type": "code",
        "colab": {}
      },
      "source": [
        "\n",
        "#其他參考\n",
        "s1='春眠不覺曉,處處聞啼鳥,夜來風雨聲,花落知多少。'\n",
        "print(s1.startswith('春眠'))\n",
        "print(s1.endswith('多少。'))\n",
        "\n",
        "s1='春眠不覺曉'\n",
        "print(s1.center(10))\n",
        "print(s1.rjust(10))\n",
        "print(s1.ljust(10))\n",
        "\n",
        "s1='123'\n",
        "print(s1.zfill(5))\n",
        "\n",
        "s1=' Hello,Mary. '\n",
        "print(s1.strip())\n",
        "print(s1.lstrip(' H'))\n",
        "print(s1.rstrip(' .'))"
      ],
      "execution_count": 0,
      "outputs": []
    },
    {
      "cell_type": "code",
      "metadata": {
        "id": "Yv72347WS98m",
        "colab_type": "code",
        "colab": {}
      },
      "source": [
        ""
      ],
      "execution_count": 0,
      "outputs": []
    }
  ]
}